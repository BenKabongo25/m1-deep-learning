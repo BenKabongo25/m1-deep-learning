{
  "cells": [
    {
      "cell_type": "markdown",
      "metadata": {
        "id": "HNQwAqd0cL_p"
      },
      "source": [
        "Students:\n",
        "\n",
        "- Ben Kabongo, M1 DS, 22210136\n",
        "\n",
        "# Deep Learning - Lab Exercise 2\n",
        "\n",
        "**WARNING:** you must have finished the first exercise before this one as you will re-use parts of the code.\n",
        "\n",
        "In the first lab exercise, we built a simple linear classifier.\n",
        "Although it can give reasonable results on the MNIST dataset (~92.5% of accuracy), deeper neural networks can achieve more the 99% accuracy.\n",
        "However, it can quickly become really impracical to explicitly code forward and backward passes.\n",
        "Hence, it is useful to rely on an auto-diff library where we specify the forward pass once, and the backward pass is automatically deduced from the computational graph structure.\n",
        "\n",
        "In this lab exercise, we will build a small and simple auto-diff lib that mimics the autograd mechanism from Pytorch (of course, we will simplify a lot!)\n"
      ]
    },
    {
      "cell_type": "code",
      "execution_count": 1,
      "metadata": {
        "id": "EcHg6EhQcL_r"
      },
      "outputs": [],
      "source": [
        "# import libs that we will use\n",
        "import os\n",
        "import numpy as np\n",
        "import matplotlib.pyplot as plt\n",
        "import math\n",
        "\n",
        "# To load the data we will use the script of Gaetan Marceau Caron\n",
        "# You can download it from the course webiste and move it to the same directory that contains this ipynb file\n",
        "import dataset_loader\n",
        "\n",
        "%matplotlib inline"
      ]
    },
    {
      "cell_type": "markdown",
      "metadata": {
        "id": "pbXMPlC8cL_s"
      },
      "source": [
        "# Data"
      ]
    },
    {
      "cell_type": "code",
      "execution_count": 2,
      "metadata": {
        "colab": {
          "base_uri": "https://localhost:8080/"
        },
        "id": "JK4Ev3XvcL_s",
        "outputId": "299d6954-1ae5-4ece-ba94-53cff3f3627e"
      },
      "outputs": [
        {
          "output_type": "stream",
          "name": "stdout",
          "text": [
            "--2023-04-02 09:39:28--  https://github.com/mnielsen/neural-networks-and-deep-learning/raw/master/data/mnist.pkl.gz\n",
            "Resolving github.com (github.com)... 20.27.177.113\n",
            "Connecting to github.com (github.com)|20.27.177.113|:443... connected.\n",
            "HTTP request sent, awaiting response... 302 Found\n",
            "Location: https://raw.githubusercontent.com/mnielsen/neural-networks-and-deep-learning/master/data/mnist.pkl.gz [following]\n",
            "--2023-04-02 09:39:29--  https://raw.githubusercontent.com/mnielsen/neural-networks-and-deep-learning/master/data/mnist.pkl.gz\n",
            "Resolving raw.githubusercontent.com (raw.githubusercontent.com)... 185.199.108.133, 185.199.109.133, 185.199.110.133, ...\n",
            "Connecting to raw.githubusercontent.com (raw.githubusercontent.com)|185.199.108.133|:443... connected.\n",
            "HTTP request sent, awaiting response... 200 OK\n",
            "Length: 17051982 (16M) [application/octet-stream]\n",
            "Saving to: ‘mnist.pkl.gz’\n",
            "\n",
            "mnist.pkl.gz        100%[===================>]  16.26M  --.-KB/s    in 0.1s    \n",
            "\n",
            "2023-04-02 09:39:30 (111 MB/s) - ‘mnist.pkl.gz’ saved [17051982/17051982]\n",
            "\n"
          ]
        }
      ],
      "source": [
        "# Download mnist dataset \n",
        "if(\"mnist.pkl.gz\" not in os.listdir(\".\")):\n",
        "    # this link doesn't work any more,\n",
        "    # seach on google for the file \"mnist.pkl.gz\"\n",
        "    # and download it\n",
        "    #!wget http://deeplearning.net/data/mnist/mnist.pkl.gz\n",
        "    !wget https://github.com/mnielsen/neural-networks-and-deep-learning/raw/master/data/mnist.pkl.gz\n",
        "\n",
        "# if you have it somewhere else, you can comment the lines above\n",
        "# and overwrite the path below\n",
        "mnist_path = \"./mnist.pkl.gz\""
      ]
    },
    {
      "cell_type": "code",
      "execution_count": 3,
      "metadata": {
        "id": "PV4-ayJTcL_t"
      },
      "outputs": [],
      "source": [
        "# load the 3 splits\n",
        "train_data, dev_data, test_data = dataset_loader.load_mnist(mnist_path)"
      ]
    },
    {
      "cell_type": "code",
      "execution_count": 4,
      "metadata": {
        "colab": {
          "base_uri": "https://localhost:8080/",
          "height": 464
        },
        "id": "UeZJGlD8cL_t",
        "outputId": "b65cc6bc-dcfa-4561-9b06-b79ad88c09ea"
      },
      "outputs": [
        {
          "output_type": "stream",
          "name": "stdout",
          "text": [
            "label: 2\n"
          ]
        },
        {
          "output_type": "execute_result",
          "data": {
            "text/plain": [
              "<matplotlib.image.AxesImage at 0x7fb6dc79c730>"
            ]
          },
          "metadata": {},
          "execution_count": 4
        },
        {
          "output_type": "display_data",
          "data": {
            "text/plain": [
              "<Figure size 640x480 with 1 Axes>"
            ],
            "image/png": "[encoded data removed]"
          },
          "metadata": {}
        }
      ],
      "source": [
        "index = 900\n",
        "label = train_data[1][index]\n",
        "picture = train_data[0][index]\n",
        "\n",
        "print(\"label: %i\" % label)\n",
        "plt.imshow(picture.reshape(28,28), cmap='Greys')"
      ]
    },
    {
      "cell_type": "markdown",
      "metadata": {
        "id": "u1y9yjXBcL_u"
      },
      "source": [
        "# Computation nodes\n",
        "\n",
        "Instead of directly manipulating numpy arrays, we will manipulate abstraction that contains:\n",
        "- a value (i.e. a numpy array)\n",
        "- a bool indicating if we wish to compute the gradient with respect to the value\n",
        "- the gradient with respect to the value\n",
        "- the operation to call during backpropagation\n",
        "\n",
        "There will be two kind of nodes:\n",
        "- Tensor: a generic computation node\n",
        "- Parameter: a computation node that is used to store parameters of the network. Parameters are always leaf nodes, i.e. they cannot be build from other computation nodes.\n",
        "\n",
        "Our implementation of the backward pass will be really simple and incorrect in the general case (i.e. won't work with computation graph with loops).\n",
        "We will just apply the derivative function for a given tensor and then call the ones of its antecedents, recursively.\n",
        "This simple algorithm is good enough for this exercise.\n",
        "\n",
        "Note that a real implementation of backprop will store temporary values during forward that can be used during backward to improve computation speed. We do not do that here."
      ]
    },
    {
      "cell_type": "code",
      "execution_count": 25,
      "metadata": {
        "id": "d2FdckfQcL_u"
      },
      "outputs": [],
      "source": [
        "class Tensor:\n",
        "    def __init__(self, data, require_grad=False):\n",
        "        # test type of data: should be np array\n",
        "        if isinstance(data, float):\n",
        "            data = np.array([data,])\n",
        "        if type(data) != np.ndarray:\n",
        "            raise RuntimeError(\"Input should be a numpy array\")\n",
        "\n",
        "        # store data for this tensor\n",
        "        self.data = data\n",
        "        self.require_grad = require_grad\n",
        "        \n",
        "        # this values should be set to enable autograd!\n",
        "        self.gradient = None\n",
        "        self.d = None\n",
        "        self.backptr = None\n",
        "        \n",
        "    def zero_grad(self):\n",
        "        \"\"\"\n",
        "        Set the gradient of thie tensor to 0\n",
        "        \"\"\"\n",
        "        if self.require_grad:\n",
        "            self.gradient = np.zeros_like(self.data)\n",
        "            \n",
        "    def accumulate_gradient(self, gradient):\n",
        "        \"\"\"\n",
        "        Accumulte gradient for this tensor\n",
        "        \"\"\"\n",
        "        if gradient.shape != self.data.shape:\n",
        "            raise RuntimeError(\"Invalid gradient dimension\")\n",
        "\n",
        "        if self.gradient is None:\n",
        "            self.gradient = np.copy(gradient)\n",
        "        else:\n",
        "            self.gradient += gradient\n",
        "            \n",
        "    def backward(self, g=None):\n",
        "        \"\"\"\n",
        "        The backward pass!\n",
        "        If g != None, then g is the gradient for the current node.\n",
        "        i.e. g will be != None only for the loss output.\n",
        "        \n",
        "        You should call the function stored in self.d with correct arguments,\n",
        "        and then recursively call the backward methods of tensors in the backptr list if:\n",
        "        1. they require a gradient\n",
        "        2. they are of type Tensor: check with isinstance(o, Tensor)\n",
        "        \"\"\"\n",
        "        if not self.require_grad:  # stop right now if this node does not require a gradient\n",
        "            return\n",
        "        \n",
        "        if g is not None:\n",
        "            if isinstance(g, float):\n",
        "                g = np.array([g])\n",
        "            if type(g) != np.ndarray:\n",
        "                raise RuntimeError(\"Gradient should be a numpy array\")\n",
        "            if g.shape != self.data.shape:\n",
        "                raise RuntimeError(\"Gradient of different size than the value!\")\n",
        "                \n",
        "            self.gradient = g\n",
        "\n",
        "        if self.d is None:\n",
        "            raise RuntimeError(\"Backward function not defined!\")\n",
        "        if self.backptr is None:\n",
        "            raise RuntimeError(\"Backward graph not defined!\")\n",
        "        if self.gradient is None:\n",
        "            raise RuntimeError(\"Gradient not defined!\")\n",
        "        \n",
        "        self.d(self.backptr, self.gradient)\n",
        "        for node in self.backptr:\n",
        "            if isinstance(node, Tensor) and node.require_grad:\n",
        "                node.backward()"
      ]
    },
    {
      "cell_type": "code",
      "source": [
        "class Parameter(Tensor):\n",
        "    \"\"\"\n",
        "    This class will be used to store parameters of the network only!\n",
        "    \"\"\"\n",
        "    def __init__(self, data, name=\"unamed\"):\n",
        "        super().__init__(data, require_grad=True)\n",
        "        self.name = name\n",
        "        \n",
        "    def backward(self):\n",
        "        raise RuntimeError(\"You cannot backprop from a Parameter node\")"
      ],
      "metadata": {
        "id": "hyOcddnOdsCC"
      },
      "execution_count": 6,
      "outputs": []
    },
    {
      "cell_type": "markdown",
      "metadata": {
        "id": "1o35ls3qcL_v"
      },
      "source": [
        "# Functions\n",
        "\n",
        "Functions manipulate tensors and build the required information for autograd.\n",
        "A function returns a Tensor that should have require_grad = True if at least of the arguments require a gradient."
      ]
    },
    {
      "cell_type": "code",
      "execution_count": 7,
      "metadata": {
        "id": "SuKlDSd5cL_v"
      },
      "outputs": [],
      "source": [
        "def any_require_grad(l):\n",
        "    \"\"\"\n",
        "    Input:\n",
        "    - l: an iterable (e.g. a list)\n",
        "    Ouput:\n",
        "    - True if any tensor in the input requires a gradient\n",
        "    \"\"\"\n",
        "    return any(t.require_grad for t in l)"
      ]
    },
    {
      "cell_type": "code",
      "execution_count": 8,
      "metadata": {
        "id": "RcJok8efcL_v"
      },
      "outputs": [],
      "source": [
        "# Here is an exemple with the ReLU\n",
        "def relu(x):\n",
        "    v = np.maximum(0, x.data)\n",
        "    \n",
        "    output = Tensor(v, require_grad=x.require_grad)\n",
        "    output.d = backward_relu\n",
        "    output.backptr = [x]\n",
        "    \n",
        "    return output\n",
        "\n",
        "def backward_relu(backptr, g):\n",
        "    x, = backptr\n",
        "    \n",
        "    # the gradient is accumulated in the arguments only if required\n",
        "    if x.require_grad:\n",
        "        x.accumulate_gradient(g * (x.data > 0))"
      ]
    },
    {
      "cell_type": "code",
      "execution_count": 9,
      "metadata": {
        "id": "aaFhVp1_cL_v"
      },
      "outputs": [],
      "source": [
        "def tanh(x):\n",
        "    v = np.tanh(x.data)\n",
        "    \n",
        "    output = Tensor(v, require_grad=x.require_grad)\n",
        "    output.d = backward_tanh\n",
        "    output.backptr = [x]\n",
        "    \n",
        "    return output\n",
        "\n",
        "def backward_tanh(backptr, g):\n",
        "    x, = backptr\n",
        "    \n",
        "    # the gradient is accumulated in the arguments only if required\n",
        "    if x.require_grad:\n",
        "        grad = g * (1 - np.tanh(x.data) ** 2)\n",
        "        x.accumulate_gradient(grad)"
      ]
    },
    {
      "cell_type": "markdown",
      "metadata": {
        "id": "7zKiPWzhcL_w"
      },
      "source": [
        "Next, we implement the affine transform operation.\n",
        "You can reuse the code from the first lab exercise, with one major difference: you have to compute the gradient with respect to x too!"
      ]
    },
    {
      "cell_type": "code",
      "execution_count": 23,
      "metadata": {
        "id": "R60yVeqMcL_w"
      },
      "outputs": [],
      "source": [
        "def affine_transform(W, b, x):\n",
        "    z = W.data @ x.data + b.data\n",
        "    \n",
        "    output = Tensor(z, require_grad=any_require_grad([W, b, x]))\n",
        "    output.backptr = [W, b, x]\n",
        "    output.d = backward_affine_transform\n",
        "    \n",
        "    return output\n",
        "\n",
        "def backward_affine_transform(backptr, g):\n",
        "    W, b, x = backptr\n",
        "    \n",
        "    # the gradient is accumulated in the arguments only if required\n",
        "    if W.require_grad:\n",
        "        W.accumulate_gradient(np.outer(g, x.data))\n",
        "    if b.require_grad:\n",
        "        b.accumulate_gradient(g)\n",
        "    if isinstance(x, Tensor) and x.require_grad:\n",
        "        x.accumulate_gradient(W.data.T @ g)\n"
      ]
    },
    {
      "cell_type": "code",
      "execution_count": 21,
      "metadata": {
        "id": "jiczcznlcL_w"
      },
      "outputs": [],
      "source": [
        "# we use an underscore because this function does not manipulate tensors:\n",
        "# it is exactly the same as in the previous exercise\n",
        "def _softmax(x):\n",
        "    x = np.array(x)\n",
        "    exp = np.exp(x-x.max())\n",
        "    return exp / exp.sum()\n",
        "\n",
        "def nll(x, gold):\n",
        "    v = -np.log(_softmax(x.data)[gold])\n",
        "\n",
        "    output = Tensor(v, require_grad=x.require_grad)\n",
        "    output.backptr = [x, gold]\n",
        "    output.d = backward_nll\n",
        "\n",
        "    return output\n",
        "\n",
        "def backward_nll(backptr, g):\n",
        "    x, gold = backptr\n",
        "\n",
        "    if x.require_grad:\n",
        "        mask = np.zeros(x.data.shape)\n",
        "        mask[gold] = 1\n",
        "        g_x = (_softmax(x.data) - mask) * g\n",
        "        x.accumulate_gradient(g_x)"
      ]
    },
    {
      "cell_type": "markdown",
      "metadata": {
        "id": "Oe3yIeO8cL_w"
      },
      "source": [
        "# Module\n",
        "\n",
        "Neural networks or parts of neural networks will be stored in Modules.\n",
        "They implement method to retrieve all parameters of the network and subnetwork."
      ]
    },
    {
      "cell_type": "code",
      "execution_count": 13,
      "metadata": {
        "id": "bztSYWlxcL_x"
      },
      "outputs": [],
      "source": [
        "class Module:\n",
        "    def __init__(self):\n",
        "        raise NotImplemented(\"\")\n",
        "        \n",
        "    def parameters(self):\n",
        "        ret = []\n",
        "        for name in dir(self):\n",
        "            o = self.__getattribute__(name)\n",
        "\n",
        "            if type(o) is Parameter:\n",
        "                ret.append(o)\n",
        "            if isinstance(o, Module) or isinstance(o, ModuleList):\n",
        "                ret.extend(o.parameters())\n",
        "        return ret\n",
        "\n",
        "# if you want to store a list of Parameters or Module,\n",
        "# you must store them in a ModuleList instead of a python list,\n",
        "# in order to collect the parameters correctly\n",
        "class ModuleList(list):\n",
        "    def parameters(self):\n",
        "        ret = []\n",
        "        for m in self:\n",
        "            if type(m) is Parameter:\n",
        "                ret.append(m)\n",
        "            elif isinstance(m, Module) or isinstance(m, ModuleList):\n",
        "                ret.extend(m.parameters())\n",
        "        return ret"
      ]
    },
    {
      "cell_type": "markdown",
      "metadata": {
        "id": "0cc6N73ocL_x"
      },
      "source": [
        "# Initialization and optimization"
      ]
    },
    {
      "cell_type": "code",
      "execution_count": 14,
      "metadata": {
        "id": "KzQ8bFrHcL_x"
      },
      "outputs": [],
      "source": [
        "def zero_init(b):\n",
        "    b[:] = 0.\n",
        "\n",
        "def glorot_init(W):\n",
        "    n_in, n_out = W.shape\n",
        "    std = np.sqrt(2.0 / (n_in + n_out))\n",
        "    W[:] = np.random.normal(0, std, size=(n_in, n_out))\n",
        "    \n",
        "# Look at slides for the formula!\n",
        "def kaiming_init(W):\n",
        "    n_in, n_out = W.shape\n",
        "    std = np.sqrt(2.0 / n_in)\n",
        "    W[:] = np.random.normal(0, std, size=(n_in, n_out))"
      ]
    },
    {
      "cell_type": "code",
      "execution_count": 15,
      "metadata": {
        "id": "QmbqWKTwcL_y"
      },
      "outputs": [],
      "source": [
        "# simple gradient descent optimizer\n",
        "class SGD:\n",
        "    def __init__(self, params, lr=0.1):\n",
        "        self.params = params\n",
        "        self.lr = lr\n",
        "        \n",
        "    def step(self):\n",
        "        for p in self.params:\n",
        "            p.data[:] = p.data - self.lr * p.gradient\n",
        "        \n",
        "    def zero_grad(self):\n",
        "        for p in self.params:\n",
        "            p.zero_grad()"
      ]
    },
    {
      "cell_type": "markdown",
      "metadata": {
        "id": "PvrMl19GcL_y"
      },
      "source": [
        "# Networks and training loop\n",
        "\n",
        "We first create a simple linear classifier, similar to the first lab exercise."
      ]
    },
    {
      "cell_type": "code",
      "execution_count": 16,
      "metadata": {
        "id": "02c749GdcL_y"
      },
      "outputs": [],
      "source": [
        "class LinearNetwork(Module):\n",
        "    def __init__(self, dim_input, dim_output):\n",
        "        # build the parameters\n",
        "        self.W = Parameter(np.ndarray((dim_output, dim_input)), name=\"W\")\n",
        "        self.b = Parameter(np.ndarray((dim_output,)), name=\"b\")\n",
        "        \n",
        "        self.init_parameters()\n",
        "        \n",
        "    def init_parameters(self):\n",
        "        # init parameters of the network (i.e W and b)\n",
        "        glorot_init(self.W.data)\n",
        "        zero_init(self.b.data)\n",
        "        \n",
        "    def forward(self, x):\n",
        "        return  affine_transform(self.W, self.b, x)"
      ]
    },
    {
      "cell_type": "markdown",
      "metadata": {
        "id": "-iOaKJWxcL_y"
      },
      "source": [
        "We will train several neural networks.\n",
        "Therefore, we encapsulate the training loop in a function.\n",
        "\n",
        "**warning**: you have to call optimizer.zero_grad() before each backward pass to reinitialize the gradient of the parameters!"
      ]
    },
    {
      "cell_type": "code",
      "execution_count": null,
      "metadata": {
        "id": "Rx2af-7hcL_z"
      },
      "outputs": [],
      "source": [
        "import math\n",
        "\n",
        "def training_loop(network, optimizer, train_data, dev_data, n_epochs=10):\n",
        "    best_dev = -math.inf\n",
        "    idx = np.arange(0, len(train_data[1]))\n",
        "\n",
        "    for epoch in range(n_epochs):\n",
        "        np.random.shuffle(idx)\n",
        "\n",
        "        # train\n",
        "        loss = 0\n",
        "        for i in idx:\n",
        "            x = train_data[0][i]\n",
        "            y = train_data[1][i]\n",
        "            x_t = Tensor(x)\n",
        "            # forward\n",
        "            z = network.forward(x_t)\n",
        "            loss_tensor = nll(z, y)\n",
        "            loss += loss_tensor.data[0]\n",
        "            # zero grad\n",
        "            optimizer.zero_grad()\n",
        "            # backward\n",
        "            loss_tensor.backward(.1)\n",
        "            # update\n",
        "            optimizer.step()\n",
        "\n",
        "        # eval\n",
        "        dev_acc = 0\n",
        "        for i in range(len(dev_data[1])):\n",
        "            x = dev_data[0][i]\n",
        "            y = dev_data[1][i]\n",
        "            x_t = Tensor(x)\n",
        "            # predict\n",
        "            y_pred = network.forward(x_t).data.argmax()\n",
        "            dev_acc += int(y_pred == y)\n",
        "        dev_acc /= len(dev_data[1])\n",
        "        print(f'Epoch {epoch + 1} : \\tTrain Loss : {loss} \\tValid Acc: {dev_acc}')\n",
        "\n",
        "        if dev_acc > best_dev:\n",
        "            best_dev = dev_acc\n",
        "            optimizer.best_params = list(optimizer.params)"
      ]
    },
    {
      "cell_type": "code",
      "execution_count": 36,
      "metadata": {
        "id": "qGoOAg6BcL_z",
        "colab": {
          "base_uri": "https://localhost:8080/"
        },
        "outputId": "f75302f3-2ea0-43ff-8093-ae29c33277fb"
      },
      "outputs": [
        {
          "output_type": "stream",
          "name": "stdout",
          "text": [
            "Epoch 1 : Train Loss : 29068.98871847551 Valid Acc: 0.8983\n",
            "Epoch 2 : Train Loss : 18860.45046476075 Valid Acc: 0.9096\n",
            "Epoch 3 : Train Loss : 17247.85263047583 Valid Acc: 0.9143\n",
            "Epoch 4 : Train Loss : 16415.73393066116 Valid Acc: 0.9159\n",
            "Epoch 5 : Train Loss : 15876.278994169326 Valid Acc: 0.9173\n",
            "Epoch 6 : Train Loss : 15489.482653592671 Valid Acc: 0.9192\n",
            "Epoch 7 : Train Loss : 15200.253822401055 Valid Acc: 0.9199\n",
            "Epoch 8 : Train Loss : 14968.22892280655 Valid Acc: 0.9213\n",
            "Epoch 9 : Train Loss : 14781.652122094682 Valid Acc: 0.9213\n",
            "Epoch 10 : Train Loss : 14615.645758038707 Valid Acc: 0.9214\n"
          ]
        }
      ],
      "source": [
        "dim_input = 28*28\n",
        "dim_output = 10\n",
        "\n",
        "network = LinearNetwork(dim_input, dim_output)\n",
        "optimizer = SGD(network.parameters(), 0.01)\n",
        "\n",
        "training_loop(network, optimizer, train_data, dev_data, n_epochs=10)"
      ]
    },
    {
      "cell_type": "code",
      "source": [
        "for param in optimizer.best_params:\n",
        "    print(param.name, param.data.shape)"
      ],
      "metadata": {
        "colab": {
          "base_uri": "https://localhost:8080/"
        },
        "id": "C4H-AjW94tC3",
        "outputId": "59e47d80-95eb-498b-8686-b81cf785b897"
      },
      "execution_count": 40,
      "outputs": [
        {
          "output_type": "stream",
          "name": "stdout",
          "text": [
            "W (10, 784)\n",
            "b (10,)\n"
          ]
        }
      ]
    },
    {
      "cell_type": "code",
      "source": [
        "# Test evaluation\n",
        "network = LinearNetwork(dim_input, dim_output)\n",
        "network.W = optimizer.best_params[0]\n",
        "network.b = optimizer.best_params[1]\n",
        "\n",
        "test_acc = 0\n",
        "for i in range(len(test_data[1])):\n",
        "    x = test_data[0][i]\n",
        "    y = test_data[1][i]\n",
        "    x_t = Tensor(x)\n",
        "    y_pred = affine_transform(optimizer.best_params[0], optimizer.best_params[1], x_t).data.argmax()\n",
        "    test_acc += int(y_pred == y)\n",
        "test_acc /= len(dev_data[1])\n",
        "print(f'Test acc {test_acc}')"
      ],
      "metadata": {
        "colab": {
          "base_uri": "https://localhost:8080/"
        },
        "id": "bM6DKEdszEKx",
        "outputId": "64b904e2-aa36-4810-cf93-0a172a0819a4"
      },
      "execution_count": 41,
      "outputs": [
        {
          "output_type": "stream",
          "name": "stdout",
          "text": [
            "Test acc 0.9213\n"
          ]
        }
      ]
    },
    {
      "cell_type": "markdown",
      "metadata": {
        "id": "zcx5fApDcL_z"
      },
      "source": [
        "After you finished the linear network, you can move to a deep network!"
      ]
    },
    {
      "cell_type": "code",
      "execution_count": 45,
      "metadata": {
        "id": "ZxLGVo_ncL_z"
      },
      "outputs": [],
      "source": [
        "class DeepNetwork(Module):\n",
        "    def __init__(self, dim_input, dim_output, hidden_dim, n_layers, tanh=False):\n",
        "        self.W = ModuleList()\n",
        "        self.b = ModuleList()\n",
        "        \n",
        "        self.W.append(Parameter(np.ndarray((hidden_dim, dim_input)), name=\"W1\"))\n",
        "        self.W.append(Parameter(np.ndarray((dim_output, hidden_dim)), name=\"W2\"))\n",
        "        \n",
        "        self.b.append(Parameter(np.ndarray((hidden_dim,)), name=\"b1\"))\n",
        "        self.b.append(Parameter(np.ndarray((dim_output,)), name=\"b2\"))\n",
        "        \n",
        "        #self.output_proj = # TODO\n",
        "        #self.output_bias = # TODO\n",
        "        \n",
        "        self.init_parameters()\n",
        "        \n",
        "    def init_parameters(self):\n",
        "        glorot_init(self.W[0].data)\n",
        "        glorot_init(self.W[1].data)\n",
        "        zero_init(self.b[0].data)\n",
        "        zero_init(self.b[1].data)\n",
        "\n",
        "    def forward(self, x):\n",
        "        x = affine_transform(self.W[0], self.b[0], x)\n",
        "        x = tanh(x)\n",
        "        x = affine_transform(self.W[1], self.b[1], x)\n",
        "        return x"
      ]
    },
    {
      "cell_type": "code",
      "execution_count": 46,
      "metadata": {
        "id": "raQ95TdjcL_0",
        "colab": {
          "base_uri": "https://localhost:8080/"
        },
        "outputId": "a9cadf36-4641-418a-d795-f6ecbc8b8562"
      },
      "outputs": [
        {
          "output_type": "stream",
          "name": "stdout",
          "text": [
            "Epoch 1 : Train Loss : 23635.19181515021 Valid Acc: 0.9182\n",
            "Epoch 2 : Train Loss : 14606.656850448948 Valid Acc: 0.9302\n",
            "Epoch 3 : Train Loss : 12318.597191650397 Valid Acc: 0.9382\n",
            "Epoch 4 : Train Loss : 10697.651565909478 Valid Acc: 0.9475\n",
            "Epoch 5 : Train Loss : 9453.30108549134 Valid Acc: 0.9519\n"
          ]
        }
      ],
      "source": [
        "dim_input = 28*28\n",
        "dim_output = 10\n",
        "\n",
        "network = DeepNetwork(dim_input, dim_output, 100, 2)\n",
        "optimizer = SGD(network.parameters(), 0.01)\n",
        "\n",
        "training_loop(network, optimizer, train_data, dev_data, n_epochs=5)"
      ]
    },
    {
      "cell_type": "code",
      "source": [
        "for param in optimizer.best_params:\n",
        "    print(param.name, param.data.shape)"
      ],
      "metadata": {
        "colab": {
          "base_uri": "https://localhost:8080/"
        },
        "id": "Zi2EiD6v7DPC",
        "outputId": "2c6474f5-0b29-4a09-b1da-95522ba153ef"
      },
      "execution_count": 47,
      "outputs": [
        {
          "output_type": "stream",
          "name": "stdout",
          "text": [
            "W1 (100, 784)\n",
            "W2 (10, 100)\n",
            "b1 (100,)\n",
            "b2 (10,)\n"
          ]
        }
      ]
    },
    {
      "cell_type": "code",
      "source": [
        "# Test evaluation\n",
        "network = DeepNetwork(dim_input, dim_output, 100, 2)\n",
        "network.W = optimizer.best_params[:2]\n",
        "network.b = optimizer.best_params[2:]\n",
        "\n",
        "test_acc = 0\n",
        "for i in range(len(test_data[1])):\n",
        "    x = test_data[0][i]\n",
        "    y = test_data[1][i]\n",
        "    x_t = Tensor(x)\n",
        "    y_pred = network.forward(x_t).data.argmax()\n",
        "    test_acc += int(y_pred == y)\n",
        "test_acc /= len(dev_data[1])\n",
        "print(f'Test acc {test_acc}')"
      ],
      "metadata": {
        "colab": {
          "base_uri": "https://localhost:8080/"
        },
        "id": "V-YvGcaD7GXl",
        "outputId": "598a1d54-f1ba-433d-c6ff-9de42c9a66f0"
      },
      "execution_count": 49,
      "outputs": [
        {
          "output_type": "stream",
          "name": "stdout",
          "text": [
            "Test acc 0.9467\n"
          ]
        }
      ]
    },
    {
      "cell_type": "markdown",
      "metadata": {
        "id": "76cXReOacL_0"
      },
      "source": [
        "## Bonus\n",
        "\n",
        "You can try to implement a momentum SGD optimizer! Note that you have to keep track of the velocity for each parameter in the optimizer.\n"
      ]
    }
  ],
  "metadata": {
    "kernelspec": {
      "display_name": "Python 3 (ipykernel)",
      "language": "python",
      "name": "python3"
    },
    "language_info": {
      "codemirror_mode": {
        "name": "ipython",
        "version": 3
      },
      "file_extension": ".py",
      "mimetype": "text/x-python",
      "name": "python",
      "nbconvert_exporter": "python",
      "pygments_lexer": "ipython3",
      "version": "3.7.4"
    },
    "colab": {
      "provenance": []
    }
  },
  "nbformat": 4,
  "nbformat_minor": 0
}